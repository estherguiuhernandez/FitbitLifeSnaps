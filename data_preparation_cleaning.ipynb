{
 "cells": [
  {
   "cell_type": "markdown",
   "id": "705e8e6b-6303-4a66-929e-3cc5d5d3e3c6",
   "metadata": {
    "tags": []
   },
   "source": [
    "# An exploration on fitbit data -mood and stress parameters - Data cleaning\n",
    "\n",
    "This notebook has been prepared by Esther Guiu Hernandez on March 2024\n",
    "\n",
    "This is the Lifesnaps Fitbit dataset \n",
    "\n",
    "## About the data files: \n",
    "- <b>  Scored Surveys </b> : CSV files containing scored version of PANAS, STAI surveys\n",
    "- <b> Personality trait  </b> : CSV files containing personality trait data\n",
    "- <b>  Fitbit & EMA Data (daily granularity) </b>: csv_rais_anonymized/daily_fitbit_sema_df_unprocessed.csv\n",
    "- <b>  Fitbit & EMA Data (hourly granularity) </b>: csv_rais_anonymized/hourly_fitbit_sema_df_unprocessed.csv\n",
    "\n",
    " "
   ]
  },
  {
   "cell_type": "code",
   "execution_count": 13,
   "id": "c67b1b36-cd97-4747-bd37-ce35ecaf1440",
   "metadata": {
    "tags": []
   },
   "outputs": [],
   "source": [
    "import pandas as pd\n",
    "import seaborn as sns\n",
    "import matplotlib.pyplot as plt\n",
    "import plotly.express as px\n",
    "import missingno as msno\n",
    "from tabulate import tabulate"
   ]
  },
  {
   "cell_type": "code",
   "execution_count": 14,
   "id": "ba478493-4feb-4f8f-99c6-3e258f5db9e9",
   "metadata": {
    "tags": []
   },
   "outputs": [
    {
     "name": "stderr",
     "output_type": "stream",
     "text": [
      "C:\\Users\\egh22\\AppData\\Local\\Temp\\ipykernel_30728\\2003786354.py:5: DtypeWarning: Columns (5,10,19,20) have mixed types. Specify dtype option on import or set low_memory=False.\n",
      "  hourly_fitbit_sema_df = pd.read_csv('data/original/hourly_fitbit_sema_df_unprocessed.csv', delimiter=',')\n"
     ]
    }
   ],
   "source": [
    "# Load in the dataframe from fitbit data\n",
    "\n",
    "#fitbit and sema\n",
    "daily_fitbit_sema_df = pd.read_csv('data/original/daily_fitbit_sema_df_unprocessed.csv', delimiter=',')\n",
    "hourly_fitbit_sema_df = pd.read_csv('data/original/hourly_fitbit_sema_df_unprocessed.csv', delimiter=',')\n",
    "\n",
    "#survey data\n",
    "stai_survey_df = pd.read_csv('data/original/stai.csv', delimiter=',')\n",
    "personality_survey_df = pd.read_csv('data/original/personality.csv', delimiter=',')\n",
    "panas_survey_df = pd.read_csv('data/original/panas.csv', delimiter=',')"
   ]
  },
  {
   "cell_type": "markdown",
   "id": "d08480aa-71be-46b0-b4b1-27db130d43f3",
   "metadata": {
    "tags": []
   },
   "source": [
    "# 1. Data exploration\n",
    "\n",
    "## 1.1 Fitbit data variable descriptions\n",
    "\n",
    "What is the rleationship between the different stress associacted physiological data?  We are going to select the following variables\n",
    "\n",
    "- <b>Age</b>\n",
    "- <b>Gender</b>\n",
    "- <b>BMI</b>\n",
    "- <b>nightly_temperature </b>: measures the temperature at night during sleep\n",
    "- <b>rmssd </b>: The Root Mean Square of Successive Differences (RMSSD) between heart beats. It measures short-term variability in the user’s heart rate while in deep sleep, in milliseconds (ms)\n",
    "    -- Heart Rate Variability (HRV): If your nervous system is balanced, your heart is constantly being told to beat slower by your parasympathetic system, and beat faster by your sympathetic system. This causes a fluctuation in your heart rate: HRV.  higher HRV is seen as healthier, while a drop in HRV could indicate that you are experiencing stress or showing potential signs of illness. \n",
    "- <b> spo2 </b>: termine the percentage of oxygen saturation in the blood. A low score may be an indication of important changes in your fitness and wellness. Fitbit measures SpO2 above 80%, and a healthy score would be above 95%.\n",
    "- <b> Full_sleep_breathing_rate </b> :  RR of healthy adults in a relax state is about 12–20 times per minute.\n",
    "- <b> Strees score </b>:  Calculated by adding:\n",
    "    - <b> responsiveness_points_percentage: </b>responsiveness out of a possible 30\n",
    "    Responsiveness monitors your sympathetic nervous system, aka your fight or flight response, by monitoring your heart rate and heart rate variability. \n",
    "    - <b> exertion_points_percentage: </b> for exertion balance is out of 40 \n",
    "     Exertion akes into account your recent physical activity like steps and accounts for both overexertion or lack of exercise. \n",
    "    - <b> sleep_points_percentage:</b> sleep patterns is out of 30 \n",
    "    include measurements of deep sleep from the previous night and whether your sleep was fitful or fragmented. It also tracks your “sleep reservoir” based on the amount and quality of sleep you’ve managed over the previous week\n",
    "    \n",
    "-  <b> Sleep score </b>: Sleep Score that's made up of time asleep (50 percent of the score) the amount of time you spent in deep and REM sleep (25 percent of the score) and restoration (which shows how much of your sleep time is below your resting heart rate (also 25 percent).\n",
    "- <b> daily_tempearature_variation: </b> The top-end Fitbit smartwatches feature a sensor that tracks your skin temperature each night to show how it varies from your personal baseline (set over three nights when you first setup the watch), so you can be aware of your trends over time. \n",
    "\n",
    "- <b> daily_temperature_variation:</b> variations in temperature can be caused by menstrual cycle in women, by ilness and also by stress periods. \n",
    "\n",
    "- <b>FilteredVO2 Max (Cardio Fitness Score):</b>  It’s a measurement of your cardiovascular fitness, or how well your body uses oxygen when you are working out at your hardest. The higher your score, the more fit you are. The more stationary your lifestyle, the lower your score will be, and the higher your risk of developing high blood pressure and coronary heart disease\n",
    "\n",
    "- <b> lightly_active_minutes</b>\n",
    "- <b> moderately_active_minutes</b>\n",
    "- <b> very_active_minutes</b>\n",
    "- <b> sedentary_minutes</b>\n",
    "- <b> mindfulness_session</b>\n",
    "- <b> scl_avg (skin conductance level): </b>\n",
    "- <b>resting_hr ( Resting Heart Rate): </b> number of times your heart beats per minute (bpm) when you are still and rested .\n",
    "RHR usually ranges from 60-100bpm, but varies according to your age and fitness level. Generally, the lower the better –\n",
    "- <b> sleep_duration</b>\n",
    "- <b> sleep_efficiency</b>\n",
    "- <b> SEMA Values</b>: ALTERT, HAPPY, NEUTRAL, RESTED/RELAXED, TENSE/ANXIOUS, TIRED\n",
    "\n"
   ]
  },
  {
   "cell_type": "markdown",
   "id": "77f92970-f2c5-4e31-9c52-02f52c4c646e",
   "metadata": {},
   "source": [
    "# 2. Data cleaning\n",
    "\n",
    "## 2.1 Data Cleaning Steps\n",
    "<b> Daily_fitbit_sema_df </b>\n",
    "1. Calculate which day of the week each day corresponds\n",
    "2. Order by day accross participants and asign each day whether is day 1 in the study, so create new variable called Days_in_study\n",
    "3. Delete all the features that we don't need\n",
    "4. Save data in a new csv file\n",
    "\n",
    "<b> Hourly_fitbit_sema_df </b>\n",
    "1. Calculate which day of the week each day corresponds\n",
    "2. Calculate whether the hour corresponds to the night (0-5) morning (6 -12), afternoon (13 - 18) evening (19 - 23)\n",
    "3. Calculate a variable that reflects the number of days in the study in order to align participants accross this time\n",
    "4. Delete all the features that we don't need\n",
    "5. Save data in a new csv file\n",
    "\n",
    "<b>  Scored Surveys </b>\n",
    "- PANAS\n",
    "1. Add a column that represents the first day in the study as the minimum date in the hourly or daily fitbit dataset\n",
    "2. Calculate number of days in the study and create a new column that reflects it, this way we can compare participants in a way\n",
    "\n",
    "- STAI\n",
    "1. Add a column that represents the first day in the study as the minimum date in the hourly or daily fitbit dataset\n",
    "2. Calculate number of days in the study and create a new column that reflects it, this way we can compare participants in a way\n",
    "\n",
    "\n",
    "<b> Personality trait  </b>\n",
    "- No pre-processing needed\n",
    "\n",
    "\n"
   ]
  },
  {
   "cell_type": "markdown",
   "id": "bc2438b7-be23-4159-aa89-416c9cdacb25",
   "metadata": {},
   "source": [
    "## 2.2 Cleaning the databases\n",
    "\n",
    "### Hourly fitbit sema df"
   ]
  },
  {
   "cell_type": "code",
   "execution_count": 15,
   "id": "c0bfaca4-8aa6-47e1-96ad-1eceebf7344e",
   "metadata": {
    "tags": []
   },
   "outputs": [],
   "source": [
    "columns_to_drop = ['minutes_below_default_zone_1', 'minutes_in_default_zone_2',\n",
    "       'minutes_in_default_zone_3', 'step_goal', 'min_goal', 'max_goal', 'bpm', 'temperature', 'badgeType', 'scl_avg']\n",
    "\n",
    "hourly_fitbit_sema_df.drop(columns=columns_to_drop, inplace = True)\n",
    "\n",
    "\n",
    "# Create a mapping dictionary for Participant_ID to new integer numbers in order, so that is easier to plot later\n",
    "unique_participants = hourly_fitbit_sema_df['id'].unique()\n",
    "participant_mapping = {participant_id: i for i, participant_id in enumerate(sorted(unique_participants), 1)}\n",
    "\n",
    "# Map Participant_ID to new integer numbers\n",
    "hourly_fitbit_sema_df['Mapped_ID'] = hourly_fitbit_sema_df['id'].map(participant_mapping)\n",
    "\n",
    "\n",
    "# Create a column that represents the number of day since the start of the study\n",
    "# Calculate the minimum date for each participant\n",
    "hourly_fitbit_sema_df['date'] = pd.to_datetime(hourly_fitbit_sema_df['date'])\n",
    "hourly_fitbit_sema_df['Min_date'] = hourly_fitbit_sema_df.groupby('id')['date'].transform('min')\n",
    "# substract the start date in the study from the current day to calculate which day from the study each entrry represents\n",
    "hourly_fitbit_sema_df['Days_from_beggining'] = (hourly_fitbit_sema_df['date'] - hourly_fitbit_sema_df['Min_date']).dt.days + 1  # Adding 1 to start counting from day 1\n",
    "\n",
    "\n",
    "# Save DataFrame to CSV file\n",
    "hourly_fitbit_sema_df.to_csv('data/cleaned/hourly_fitbit_sema_cleaned.csv', index=False)  # Set index=False to exclude row numbers in the output CSV file\n",
    "\n"
   ]
  },
  {
   "cell_type": "markdown",
   "id": "a413cdc0-505c-48f4-acb7-05dc809088a5",
   "metadata": {},
   "source": [
    "### PANAS"
   ]
  },
  {
   "cell_type": "code",
   "execution_count": 16,
   "id": "70dcb789-b649-4d52-a6d1-f1cc4893039a",
   "metadata": {
    "tags": []
   },
   "outputs": [],
   "source": [
    "## 1.2 PANAS\n",
    "\n",
    "# create a dataframe that is only users and their start date, just once\n",
    "users_and_start_date = hourly_fitbit_sema_df.drop_duplicates(subset=['id'], keep='first')[[\"id\", \"age\", \"gender\",\"Min_date\", \"Mapped_ID\"]]\n",
    "#users_and_start_date.head(40)\n",
    "\n",
    "# rename id column so that both dataframes can be merged\n",
    "panas_survey_df.rename(columns={'user_id': 'id'}, inplace=True)\n",
    "\n",
    "# Merge the two dataframes on Participant_ID\n",
    "panas_survey_df = pd.merge(panas_survey_df, users_and_start_date, on='id', how='left')\n",
    "\n",
    "# Convert 'Date' column to datetime\n",
    "panas_survey_df['submitdate'] = pd.to_datetime(panas_survey_df['submitdate'])\n",
    "\n",
    "# substract the start date in the study from the current day to calculate which day from the study each entrry represents\n",
    "panas_survey_df['Days_from_beggining'] = (panas_survey_df['submitdate'] - panas_survey_df['Min_date']).dt.days + 1  # Adding 1 to start counting from day 1\n",
    "\n",
    "# Calculate the number of weeks from the beginning of the study\n",
    "panas_survey_df['Weeks_from_beggining'] = panas_survey_df['Days_from_beggining'] // 7  \n",
    "\n",
    "# create a score that represents positive over negative\n",
    "panas_survey_df['Positive_over_negative'] = (panas_survey_df['positive_affect_score'] / panas_survey_df['negative_affect_score']).round(2)\n",
    "\n",
    "# Drop the 'Min_Date' column if not needed\n",
    "panas_survey_df.drop(columns=['Min_date'], inplace=True)\n",
    "\n",
    "# Map Participant_ID to new integer numbers\n",
    "#panas_survey_df.head(10)\n",
    "\n",
    "# Save DataFrame to CSV file\n",
    "panas_survey_df.to_csv('data/cleaned/panas_survey_cleaned.csv', index=False)  # Set index=False to exclude row numbers in the output CSV file\n"
   ]
  },
  {
   "cell_type": "markdown",
   "id": "4a4f6198-a8c7-4373-b0a1-b16ba961d68a",
   "metadata": {
    "tags": []
   },
   "source": [
    "### STAI\n"
   ]
  },
  {
   "cell_type": "code",
   "execution_count": 17,
   "id": "0794c0e6-ae84-40e2-94e7-ee7f024d25df",
   "metadata": {
    "tags": []
   },
   "outputs": [],
   "source": [
    "# rename id column so that both dataframes can be merged\n",
    "stai_survey_df.rename(columns={'user_id': 'id'}, inplace=True)\n",
    "\n",
    "# Merge the two dataframes on Participant_ID\n",
    "stai_survey_df = pd.merge(stai_survey_df, users_and_start_date, on='id', how='left')\n",
    "\n",
    "# Convert 'Date' column to datetime\n",
    "stai_survey_df['submitdate'] = pd.to_datetime(stai_survey_df['submitdate'])\n",
    "\n",
    "# substract the start date in the study from the current day to calculate which day from the study each entrry represents\n",
    "stai_survey_df['Days_from_beggining'] = (stai_survey_df['submitdate'] - stai_survey_df['Min_date']).dt.days + 1  # Adding 1 to start counting from day 1\n",
    "\n",
    "# Calculate the number of weeks from the beginning of the study\n",
    "stai_survey_df['Weeks_from_beggining'] = stai_survey_df['Days_from_beggining'] // 7  \n",
    "\n",
    "# Drop the 'Min_Date' column if not needed\n",
    "stai_survey_df.drop(columns=['Min_date'], inplace=True)\n",
    "\n",
    "# Map Participant_ID to new integer numbers\n",
    "#panas_survey_df.head(10)\n",
    "\n",
    "# Save DataFrame to CSV file\n",
    "stai_survey_df.to_csv('data/cleaned/stai_survey_df_cleaned.csv', index=False)  # Set index=False to exclude row numbers in the output CSV file\n"
   ]
  },
  {
   "cell_type": "markdown",
   "id": "f8ba41f1-2459-41e4-bdc6-397de6138c2c",
   "metadata": {},
   "source": [
    "### Daily fitbit sema"
   ]
  },
  {
   "cell_type": "code",
   "execution_count": 18,
   "id": "37c10a3e-a63a-4ed5-a808-6199c0749a78",
   "metadata": {
    "tags": []
   },
   "outputs": [],
   "source": [
    "columns_to_drop = ['nremhr', 'badgeType',\n",
    "       'bpm', 'step_goal', 'min_goal', 'max_goal', 'minutesAwake', 'minutesAfterWakeup', 'badgeType']\n",
    "\n",
    "daily_fitbit_sema_df.drop(columns=columns_to_drop, inplace = True)\n",
    "\n",
    "\n",
    "# Map Participant_ID to new integer numbers\n",
    "daily_fitbit_sema_df['Mapped_ID'] = daily_fitbit_sema_df['id'].map(participant_mapping)\n",
    "\n",
    "# Create a column that represents the number of day since the start of the study\n",
    "# Calculate the minimum date for each participant\n",
    "daily_fitbit_sema_df['date'] = pd.to_datetime(daily_fitbit_sema_df['date'])\n",
    "daily_fitbit_sema_df['Min_date'] = daily_fitbit_sema_df.groupby('id')['date'].transform('min')\n",
    "# substract the start date in the study from the current day to calculate which day from the study each entrry represents\n",
    "daily_fitbit_sema_df['Days_from_beggining'] = (daily_fitbit_sema_df['date'] - daily_fitbit_sema_df['Min_date']).dt.days + 1  # Adding 1 to start counting from day 1\n",
    "# Calculate the number of weeks from the beginning of the study\n",
    "daily_fitbit_sema_df['Weeks_from_beggining'] = daily_fitbit_sema_df['Days_from_beggining'] // 7  \n",
    "\n",
    "# Extract weekday name from the 'date' column\n",
    "daily_fitbit_sema_df['weekday'] = daily_fitbit_sema_df['date'].dt.strftime('%A')\n",
    "\n",
    "\n"
   ]
  },
  {
   "cell_type": "code",
   "execution_count": 19,
   "id": "58286a3c-4f1b-488f-a9ae-d72e774674b6",
   "metadata": {},
   "outputs": [],
   "source": [
    "#Let's create a column that shifts the stress score \n",
    "# Define a function to shift stress score by one day for each participant\n",
    "def shift_stress_score(group):\n",
    "    # Sort DataFrame by date\n",
    "    group = group.sort_values(by='date')\n",
    "    # Shift stress score by one day\n",
    "    group['stress_score_shifted'] = group['stress_score'].shift(-1)\n",
    "    # Propagate NaN values from the original stress score\n",
    "    group['stress_score_shifted'] = group['stress_score_shifted'].ffill()\n",
    "    return group\n",
    "\n",
    "# Group the data by participant\n",
    "grouped_data = daily_fitbit_sema_df.groupby('id')\n",
    "\n",
    "daily_fitbit_sema_with_shifted_score = pd.concat([shift_stress_score(group) for _, group in grouped_data]).reset_index(drop=True)\n",
    "daily_fitbit_sema_df = daily_fitbit_sema_with_shifted_score\n",
    "# Save DataFrame to CSV file\n",
    "daily_fitbit_sema_df.to_csv('data/cleaned/daily_fitbit_sema_cleaned.csv', index=False)  # Set index=False to exclude row numbers in the output CSV file\n"
   ]
  },
  {
   "cell_type": "markdown",
   "id": "bdc32a95-9747-4a41-8f36-fa39a194b450",
   "metadata": {},
   "source": [
    "### Personality"
   ]
  },
  {
   "cell_type": "code",
   "execution_count": 20,
   "id": "61417b3f-5293-44d5-8a42-cd8bddc488f6",
   "metadata": {},
   "outputs": [],
   "source": [
    "personality_survey_df.rename(columns={'user_id': 'id'}, inplace=True)\n",
    "personality_survey_df.drop(columns=['extraversion',\n",
    "       'agreeableness', 'conscientiousness', 'stability', 'intellect'], inplace=True)\n",
    "\n",
    "personality_survey_df.rename(columns={'ipip_extraversion_category': 'extraversion', 'ipip_agreeableness_category': 'agreeableness', \n",
    "                                     'ipip_conscientiousness_category': 'conscientiousness', 'ipip_stability_category': 'stability', \n",
    "                                     'ipip_intellect_category': 'intellect'}, inplace=True)"
   ]
  },
  {
   "cell_type": "code",
   "execution_count": 21,
   "id": "ead6ae56-6c1b-4349-8580-2589a94c792b",
   "metadata": {},
   "outputs": [],
   "source": [
    "# Save DataFrame to CSV file\n",
    "personality_survey_df.to_csv('data/cleaned/personality_survey_cleaned.csv', index=False)  # Set index=False to exclude row numbers in the output CSV file\n"
   ]
  }
 ],
 "metadata": {
  "kernelspec": {
   "display_name": "Python 3 (ipykernel)",
   "language": "python",
   "name": "python3"
  },
  "language_info": {
   "codemirror_mode": {
    "name": "ipython",
    "version": 3
   },
   "file_extension": ".py",
   "mimetype": "text/x-python",
   "name": "python",
   "nbconvert_exporter": "python",
   "pygments_lexer": "ipython3",
   "version": "3.11.5"
  }
 },
 "nbformat": 4,
 "nbformat_minor": 5
}
