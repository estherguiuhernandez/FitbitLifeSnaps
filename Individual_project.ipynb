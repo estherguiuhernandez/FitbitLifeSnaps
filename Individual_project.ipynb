{
 "cells": [
  {
   "cell_type": "markdown",
   "id": "705e8e6b-6303-4a66-929e-3cc5d5d3e3c6",
   "metadata": {
    "tags": []
   },
   "source": [
    "# An exploration on fitbit data -mood and stress parameters?\n",
    "\n",
    "This EDA has been prepared by Esther Guiu Hernandez on March 2024\n",
    "\n",
    "This is Lifesnaps Fitbit dataset \n",
    "\n",
    "## About the data files: \n",
    "- <b>  Scored Surveys </b> : CSV files containing scored version of PANAS, STAI surveys\n",
    "- <b> Personality trait  </b> : CSV files containing personality trait data\n",
    "- <b>  Fitbit & EMA Data (daily granularity) </b>: csv_rais_anonymized/daily_fitbit_sema_df_unprocessed.csv\n",
    "- <b>  Fitbit & EMA Data (hourly granularity) </b>: csv_rais_anonymized/hourly_fitbit_sema_df_unprocessed.csv\n",
    "\n",
    " "
   ]
  },
  {
   "cell_type": "code",
   "execution_count": 169,
   "id": "c67b1b36-cd97-4747-bd37-ce35ecaf1440",
   "metadata": {
    "tags": []
   },
   "outputs": [],
   "source": [
    "import pandas as pd\n",
    "import seaborn as sns\n",
    "import matplotlib.pyplot as plt\n",
    "import plotly.express as px\n",
    "import missingno as msno\n",
    "from tabulate import tabulate"
   ]
  },
  {
   "cell_type": "code",
   "execution_count": 170,
   "id": "ba478493-4feb-4f8f-99c6-3e258f5db9e9",
   "metadata": {
    "tags": []
   },
   "outputs": [
    {
     "name": "stderr",
     "output_type": "stream",
     "text": [
      "C:\\Users\\egh22\\AppData\\Local\\Temp\\ipykernel_32804\\1705282665.py:5: DtypeWarning: Columns (5,10,19,20) have mixed types. Specify dtype option on import or set low_memory=False.\n",
      "  hourly_fitbit_sema_df = pd.read_csv('data/hourly_fitbit_sema_df_unprocessed.csv', delimiter=',')\n"
     ]
    }
   ],
   "source": [
    "# Load in the dataframe from fitbit data\n",
    "\n",
    "#fitbit and sema\n",
    "daily_fitbit_sema_df = pd.read_csv('data/daily_fitbit_sema_df_unprocessed.csv', delimiter=',')\n",
    "hourly_fitbit_sema_df = pd.read_csv('data/hourly_fitbit_sema_df_unprocessed.csv', delimiter=',')\n",
    "\n",
    "#survey data\n",
    "stai_survey_df = pd.read_csv('data/stai.csv', delimiter=',')\n",
    "personality_survey_df = pd.read_csv('data/personality.csv', delimiter=',')\n",
    "panas_survey_df = pd.read_csv('data/panas.csv', delimiter=',')"
   ]
  },
  {
   "cell_type": "code",
   "execution_count": 171,
   "id": "76a8afd7-2eb1-4506-8ad1-0ee63da157dc",
   "metadata": {},
   "outputs": [
    {
     "data": {
      "text/plain": [
       "Index(['Unnamed: 0', 'id', 'date', 'hour', 'temperature', 'badgeType',\n",
       "       'calories', 'distance', 'activityType', 'bpm', 'mindfulness_session',\n",
       "       'scl_avg', 'steps', 'minutes_in_default_zone_1',\n",
       "       'minutes_below_default_zone_1', 'minutes_in_default_zone_2',\n",
       "       'minutes_in_default_zone_3', 'age', 'gender', 'bmi', 'step_goal',\n",
       "       'min_goal', 'max_goal', 'step_goal_label', 'ALERT', 'HAPPY', 'NEUTRAL',\n",
       "       'RESTED/RELAXED', 'SAD', 'TENSE/ANXIOUS', 'TIRED', 'ENTERTAINMENT',\n",
       "       'GYM', 'HOME', 'HOME_OFFICE', 'OTHER', 'OUTDOORS', 'TRANSIT',\n",
       "       'WORK/SCHOOL'],\n",
       "      dtype='object')"
      ]
     },
     "execution_count": 171,
     "metadata": {},
     "output_type": "execute_result"
    }
   ],
   "source": [
    "hourly_fitbit_sema_df.columns"
   ]
  },
  {
   "cell_type": "code",
   "execution_count": 172,
   "id": "4088d84b-6300-422b-ab17-bed0fd75d5cd",
   "metadata": {},
   "outputs": [
    {
     "data": {
      "text/plain": [
       "Index(['Unnamed: 0', 'id', 'date', 'nightly_temperature', 'nremhr', 'rmssd',\n",
       "       'spo2', 'full_sleep_breathing_rate', 'stress_score',\n",
       "       'sleep_points_percentage', 'exertion_points_percentage',\n",
       "       'responsiveness_points_percentage', 'daily_temperature_variation',\n",
       "       'badgeType', 'calories', 'filteredDemographicVO2Max', 'distance',\n",
       "       'activityType', 'bpm', 'lightly_active_minutes',\n",
       "       'moderately_active_minutes', 'very_active_minutes', 'sedentary_minutes',\n",
       "       'mindfulness_session', 'scl_avg', 'resting_hr', 'sleep_duration',\n",
       "       'minutesToFallAsleep', 'minutesAsleep', 'minutesAwake',\n",
       "       'minutesAfterWakeup', 'sleep_efficiency', 'sleep_deep_ratio',\n",
       "       'sleep_wake_ratio', 'sleep_light_ratio', 'sleep_rem_ratio', 'steps',\n",
       "       'minutes_in_default_zone_1', 'minutes_below_default_zone_1',\n",
       "       'minutes_in_default_zone_2', 'minutes_in_default_zone_3', 'age',\n",
       "       'gender', 'bmi', 'step_goal', 'min_goal', 'max_goal', 'step_goal_label',\n",
       "       'ALERT', 'HAPPY', 'NEUTRAL', 'RESTED/RELAXED', 'SAD', 'TENSE/ANXIOUS',\n",
       "       'TIRED', 'ENTERTAINMENT', 'GYM', 'HOME', 'HOME_OFFICE', 'OTHER',\n",
       "       'OUTDOORS', 'TRANSIT', 'WORK/SCHOOL'],\n",
       "      dtype='object')"
      ]
     },
     "execution_count": 172,
     "metadata": {},
     "output_type": "execute_result"
    }
   ],
   "source": [
    "daily_fitbit_sema_df.columns"
   ]
  },
  {
   "cell_type": "markdown",
   "id": "d08480aa-71be-46b0-b4b1-27db130d43f3",
   "metadata": {
    "tags": []
   },
   "source": [
    "# Analysing the fitbit data\n",
    "\n",
    "What is the rleationship between the different stress associacted physiological data?  We are going to select the following variables\n",
    "\n",
    "- <b>Age</b>\n",
    "- <b>Gender</b>\n",
    "- <b>BMI</b>\n",
    "- <b>nightly_temperature </b>: measures the temperature at night during sleep\n",
    "- <b>rmssd </b>: The Root Mean Square of Successive Differences (RMSSD) between heart beats. It measures short-term variability in the user’s heart rate while in deep sleep, in milliseconds (ms)\n",
    "    -- Heart Rate Variability (HRV): If your nervous system is balanced, your heart is constantly being told to beat slower by your parasympathetic system, and beat faster by your sympathetic system. This causes a fluctuation in your heart rate: HRV.  higher HRV is seen as healthier, while a drop in HRV could indicate that you are experiencing stress or showing potential signs of illness. \n",
    "- <b> spo2 </b>: termine the percentage of oxygen saturation in the blood. A low score may be an indication of important changes in your fitness and wellness. Fitbit measures SpO2 above 80%, and a healthy score would be above 95%.\n",
    "- <b> Full_sleep_breathing_rate </b> :  RR of healthy adults in a relax state is about 12–20 times per minute.\n",
    "- <b> Strees score </b>:  Calculated by adding:\n",
    "    - <b> responsiveness_points_percentage: </b>responsiveness out of a possible 30\n",
    "    Responsiveness monitors your sympathetic nervous system, aka your fight or flight response, by monitoring your heart rate and heart rate variability. \n",
    "    - <b> exertion_points_percentage: </b> for exertion balance is out of 40 \n",
    "     Exertion akes into account your recent physical activity like steps and accounts for both overexertion or lack of exercise. \n",
    "    - <b> sleep_points_percentage:</b> sleep patterns is out of 30 \n",
    "    include measurements of deep sleep from the previous night and whether your sleep was fitful or fragmented. It also tracks your “sleep reservoir” based on the amount and quality of sleep you’ve managed over the previous week\n",
    "    \n",
    "-  <b> Sleep score </b>: Sleep Score that's made up of time asleep (50 percent of the score) the amount of time you spent in deep and REM sleep (25 percent of the score) and restoration (which shows how much of your sleep time is below your resting heart rate (also 25 percent).\n",
    "- <b> daily_tempearature_variation: </b> The top-end Fitbit smartwatches feature a sensor that tracks your skin temperature each night to show how it varies from your personal baseline (set over three nights when you first setup the watch), so you can be aware of your trends over time. \n",
    "\n",
    "- <b> daily_temperature_variation:</b> variations in temperature can be caused by menstrual cycle in women, by ilness and also by stress periods. \n",
    "\n",
    "- <b>FilteredVO2 Max (Cardio Fitness Score):</b>  It’s a measurement of your cardiovascular fitness, or how well your body uses oxygen when you are working out at your hardest. The higher your score, the more fit you are. The more stationary your lifestyle, the lower your score will be, and the higher your risk of developing high blood pressure and coronary heart disease\n",
    "\n",
    "- <b> lightly_active_minutes</b>\n",
    "- <b> moderately_active_minutes</b>\n",
    "- <b> very_active_minutes</b>\n",
    "- <b> sedentary_minutes</b>\n",
    "- <b> mindfulness_session</b>\n",
    "- <b> scl_avg (skin conductance level): </b>\n",
    "- <b>resting_hr ( Resting Heart Rate): </b> number of times your heart beats per minute (bpm) when you are still and rested .\n",
    "RHR usually ranges from 60-100bpm, but varies according to your age and fitness level. Generally, the lower the better –\n",
    "- <b> sleep_duration</b>\n",
    "- <b> sleep_efficiency</b>\n",
    "- <b> SEMA Values</b>: ALTERT, HAPPY, NEUTRAL, RESTED/RELAXED, TENSE/ANXIOUS, TIRED\n",
    "\n"
   ]
  },
  {
   "cell_type": "markdown",
   "id": "77f92970-f2c5-4e31-9c52-02f52c4c646e",
   "metadata": {},
   "source": [
    "# Data Pre-processing\n",
    "<b> Daily_fitbit_sema_df </b>\n",
    "1. Calculate which day of the week each day corresponds\n",
    "2. Order by day accross participants and asign each day whether is day 1 in the study, so create new variable called Days_in_study\n",
    "3. Delete all the features that we don't need\n",
    "4. Save data in a new csv file\n",
    "\n",
    "<b> Hourly_fitbit_sema_df </b>\n",
    "1. Calculate which day of the week each day corresponds\n",
    "2. Calculate whether the hour corresponds to the night (0-5) morning (6 -12), afternoon (13 - 18) evening (19 - 23)\n",
    "3. Calculate a variable that reflects the number of days in the study in order to align participants accross this time\n",
    "4. Delete all the features that we don't need\n",
    "5. Save data in a new csv file\n",
    "\n",
    "<b>  Scored Surveys </b>\n",
    "- PANAS\n",
    "1. Add a column that represents the first day in the study as the minimum date in the hourly or daily fitbit dataset\n",
    "2. Calculate number of days in the study and create a new column that reflects it, this way we can compare participants in a way\n",
    "\n",
    "- STAI\n",
    "1. Add a column that represents the first day in the study as the minimum date in the hourly or daily fitbit dataset\n",
    "2. Calculate number of days in the study and create a new column that reflects it, this way we can compare participants in a way\n",
    "\n",
    "\n",
    "<b> Personality trait  </b>\n",
    "- No pre-processing needed\n",
    "\n",
    "# Different types of analysis\n",
    "<b> Hourly_fitbit_sema_df </b>\n",
    "Create new data frame averaged accross this times.\n",
    "    - For distance and steps we will calculate the sum, as we want to see the total they have done\n",
    "    - For calories we will calculate the maximum    \n",
    "- Look at whether SEMA values changes depending on time of the day and day of the week\n",
    "- Look at whether the amount that someone has moved (as distance) has any correlation with the way the feel\n",
    "- Look at whether the maximum number of calories they have burnt has any relationship with the way the feel\n",
    "- Separate analysis accross age groups \n",
    "- Separate analysis accross males/ females \n",
    "\n",
    "<b> Daily_fitbit_sema_df </b>\n",
    "- Look at whether day of the week is correlated with measures of stress score\n",
    "- Look whether day of the week is correlated with sleep efficiency\n",
    "- Look at whether sleep efficiency is correlated with stress score \n",
    "- Look at whether sedentary minutes are correlated with stress score \n",
    "- Look at whether stress score is correlated at all with SEMA mood\n",
    "\n",
    "<b>  Scored Surveys </b>\n",
    "\n",
    "<b> Personality trait  </b>\n",
    "\n",
    "\n",
    "For females:\n",
    "- An idea could be to look at daily temperature variation accross females and see how this relates to their stress score and to their sema values,\n",
    "- From the graph we could look at the peaks and see whther the change  makes sense with something in their menstrual cycle, when temparature goes from high to low and has the higuest change this could mean menstruation\n",
    "\n",
    "\n",
    "\n"
   ]
  },
  {
   "cell_type": "markdown",
   "id": "17c9f2c9-7603-4674-98ea-f027e24bc648",
   "metadata": {},
   "source": [
    "# 1. Data cleaning"
   ]
  },
  {
   "cell_type": "markdown",
   "id": "bc2438b7-be23-4159-aa89-416c9cdacb25",
   "metadata": {},
   "source": [
    "## 1.1 Hourly fitbit sema df"
   ]
  },
  {
   "cell_type": "code",
   "execution_count": 173,
   "id": "c0bfaca4-8aa6-47e1-96ad-1eceebf7344e",
   "metadata": {
    "tags": []
   },
   "outputs": [],
   "source": [
    "columns_to_drop = ['minutes_below_default_zone_1', 'minutes_in_default_zone_2',\n",
    "       'minutes_in_default_zone_3', 'step_goal', 'min_goal', 'max_goal', 'bpm', 'temperature', 'badgeType', 'scl_avg']\n",
    "\n",
    "hourly_fitbit_sema_df.drop(columns=columns_to_drop, inplace = True)\n",
    "\n",
    "\n",
    "# Create a mapping dictionary for Participant_ID to new integer numbers in order, so that is easier to plot later\n",
    "unique_participants = hourly_fitbit_sema_df['id'].unique()\n",
    "participant_mapping = {participant_id: i for i, participant_id in enumerate(sorted(unique_participants), 1)}\n",
    "\n",
    "# Map Participant_ID to new integer numbers\n",
    "hourly_fitbit_sema_df['Mapped_ID'] = hourly_fitbit_sema_df['id'].map(participant_mapping)\n",
    "\n",
    "# Create a column that represents the number of day since the start of the study\n",
    "# Calculate the minimum date for each participant\n",
    "hourly_fitbit_sema_df['date'] = pd.to_datetime(hourly_fitbit_sema_df['date'])\n",
    "hourly_fitbit_sema_df['Min_date'] = hourly_fitbit_sema_df.groupby('id')['date'].transform('min')\n",
    "# substract the start date in the study from the current day to calculate which day from the study each entrry represents\n",
    "hourly_fitbit_sema_df['Days_from_beggining'] = (hourly_fitbit_sema_df['date'] - hourly_fitbit_sema_df['Min_date']).dt.days + 1  # Adding 1 to start counting from day 1\n",
    "\n",
    "\n",
    "# Save DataFrame to CSV file\n",
    "hourly_fitbit_sema_df.to_csv('data/cleaned/hourly_fitbit_sema_cleaned.csv', index=False)  # Set index=False to exclude row numbers in the output CSV file\n",
    "\n"
   ]
  },
  {
   "cell_type": "markdown",
   "id": "a413cdc0-505c-48f4-acb7-05dc809088a5",
   "metadata": {},
   "source": [
    "## 1.2 PANAS"
   ]
  },
  {
   "cell_type": "code",
   "execution_count": 174,
   "id": "70dcb789-b649-4d52-a6d1-f1cc4893039a",
   "metadata": {
    "tags": []
   },
   "outputs": [],
   "source": [
    "## 1.2 PANAS\n",
    "\n",
    "# create a dataframe that is only users and their start date, just once\n",
    "users_and_start_date = hourly_fitbit_sema_df.drop_duplicates(subset=['id'], keep='first')[[\"id\", \"Min_date\", \"Mapped_ID\"]]\n",
    "#users_and_start_date.head(40)\n",
    "\n",
    "# rename id column so that both dataframes can be merged\n",
    "panas_survey_df.rename(columns={'user_id': 'id'}, inplace=True)\n",
    "\n",
    "# Merge the two dataframes on Participant_ID\n",
    "panas_survey_df = pd.merge(panas_survey_df, users_and_start_date, on='id', how='left')\n",
    "\n",
    "# Convert 'Date' column to datetime\n",
    "panas_survey_df['submitdate'] = pd.to_datetime(panas_survey_df['submitdate'])\n",
    "\n",
    "# substract the start date in the study from the current day to calculate which day from the study each entrry represents\n",
    "panas_survey_df['Days_from_beggining'] = (panas_survey_df['submitdate'] - panas_survey_df['Min_date']).dt.days + 1  # Adding 1 to start counting from day 1\n",
    "\n",
    "# Calculate the number of weeks from the beginning of the study\n",
    "panas_survey_df['Weeks_from_beggining'] = panas_survey_df['Days_from_beggining'] // 7  \n",
    "\n",
    "# create a score that represents positive over negative\n",
    "panas_survey_df['Positive_over_negative'] = (panas_survey_df['positive_affect_score'] / panas_survey_df['negative_affect_score']).round(2)\n",
    "\n",
    "# Drop the 'Min_Date' column if not needed\n",
    "panas_survey_df.drop(columns=['Min_date'], inplace=True)\n",
    "\n",
    "# Map Participant_ID to new integer numbers\n",
    "#panas_survey_df.head(10)\n",
    "\n",
    "# Save DataFrame to CSV file\n",
    "panas_survey_df.to_csv('data/cleaned/panas_survey_cleaned.csv', index=False)  # Set index=False to exclude row numbers in the output CSV file\n"
   ]
  },
  {
   "cell_type": "markdown",
   "id": "4a4f6198-a8c7-4373-b0a1-b16ba961d68a",
   "metadata": {
    "tags": []
   },
   "source": [
    "## 1.3 STAI\n"
   ]
  },
  {
   "cell_type": "code",
   "execution_count": 175,
   "id": "0794c0e6-ae84-40e2-94e7-ee7f024d25df",
   "metadata": {
    "tags": []
   },
   "outputs": [],
   "source": [
    "# rename id column so that both dataframes can be merged\n",
    "stai_survey_df.rename(columns={'user_id': 'id'}, inplace=True)\n",
    "\n",
    "# Merge the two dataframes on Participant_ID\n",
    "stai_survey_df = pd.merge(stai_survey_df, users_and_start_date, on='id', how='left')\n",
    "\n",
    "# Convert 'Date' column to datetime\n",
    "stai_survey_df['submitdate'] = pd.to_datetime(stai_survey_df['submitdate'])\n",
    "\n",
    "# substract the start date in the study from the current day to calculate which day from the study each entrry represents\n",
    "stai_survey_df['Days_from_beggining'] = (stai_survey_df['submitdate'] - stai_survey_df['Min_date']).dt.days + 1  # Adding 1 to start counting from day 1\n",
    "\n",
    "# Calculate the number of weeks from the beginning of the study\n",
    "stai_survey_df['Weeks_from_beggining'] = stai_survey_df['Days_from_beggining'] // 7  \n",
    "\n",
    "# Drop the 'Min_Date' column if not needed\n",
    "stai_survey_df.drop(columns=['Min_date'], inplace=True)\n",
    "\n",
    "# Map Participant_ID to new integer numbers\n",
    "#panas_survey_df.head(10)\n",
    "\n",
    "# Save DataFrame to CSV file\n",
    "stai_survey_df.to_csv('data/cleaned/stai_survey_df_cleaned.csv', index=False)  # Set index=False to exclude row numbers in the output CSV file\n"
   ]
  },
  {
   "cell_type": "markdown",
   "id": "f8ba41f1-2459-41e4-bdc6-397de6138c2c",
   "metadata": {},
   "source": [
    "## 1.4 Daily fitbit sema"
   ]
  },
  {
   "cell_type": "code",
   "execution_count": 176,
   "id": "37c10a3e-a63a-4ed5-a808-6199c0749a78",
   "metadata": {
    "tags": []
   },
   "outputs": [],
   "source": [
    "columns_to_drop = ['nremhr', 'badgeType',\n",
    "       'bpm', 'step_goal', 'min_goal', 'max_goal', 'minutesAwake', 'minutesAfterWakeup', 'badgeType', 'sleep_deep_ratio' ,'sleep_wake_ratio',\n",
    "                  'sleep_light_ratio', 'sleep_rem_ratio']\n",
    "\n",
    "daily_fitbit_sema_df.drop(columns=columns_to_drop, inplace = True)\n",
    "\n",
    "\n",
    "# Map Participant_ID to new integer numbers\n",
    "daily_fitbit_sema_df['Mapped_ID'] = daily_fitbit_sema_df['id'].map(participant_mapping)\n",
    "\n",
    "# Create a column that represents the number of day since the start of the study\n",
    "# Calculate the minimum date for each participant\n",
    "daily_fitbit_sema_df['date'] = pd.to_datetime(daily_fitbit_sema_df['date'])\n",
    "daily_fitbit_sema_df['Min_date'] = daily_fitbit_sema_df.groupby('id')['date'].transform('min')\n",
    "# substract the start date in the study from the current day to calculate which day from the study each entrry represents\n",
    "daily_fitbit_sema_df['Days_from_beggining'] = (daily_fitbit_sema_df['date'] - daily_fitbit_sema_df['Min_date']).dt.days + 1  # Adding 1 to start counting from day 1\n",
    "\n",
    "\n",
    "# Save DataFrame to CSV file\n",
    "daily_fitbit_sema_df.to_csv('data/cleaned/daily_fitbit_sema_cleaned.csv', index=False)  # Set index=False to exclude row numbers in the output CSV file\n",
    "\n"
   ]
  },
  {
   "cell_type": "markdown",
   "id": "0d3fee5f-881f-42ba-83a8-5e440f665d59",
   "metadata": {},
   "source": [
    "## Data pre-processing"
   ]
  },
  {
   "cell_type": "code",
   "execution_count": null,
   "id": "55760cc0-8f2c-458a-8b70-de35d9020407",
   "metadata": {},
   "outputs": [],
   "source": [
    "###  Hourly_fitbit_sema_df ###\n",
    "\n",
    "# Calculate which day of the week each day corresponds, and create a new variable called Day_of_the_weeek that stores this value\n",
    "hourly_fitbit_sema_df.dtypes\n",
    "\n",
    "# Calculate whether the hour corresponds to the night (0-5) morning (6 -12), afternoon (13 - 18) evening (19 - 23)\n",
    "hourly_fitbit_sema_df.loc[(hourly_fitbit_sema_df['hour'] >= 0) & (hourly_fitbit_sema_df['hour'] <= 5), 'time_of_day'] = 'Night'\n",
    "hourly_fitbit_sema_df.loc[(hourly_fitbit_sema_df['hour'] >= 6) & (hourly_fitbit_sema_df['hour'] <= 12), 'time_of_day'] = 'Morning'\n",
    "hourly_fitbit_sema_df.loc[(hourly_fitbit_sema_df['hour'] >= 13) & (hourly_fitbit_sema_df['hour'] <=18), 'time_of_day'] = 'Afternoon'\n",
    "hourly_fitbit_sema_df.loc[(hourly_fitbit_sema_df['hour'] >= 19) & (hourly_fitbit_sema_df['hour'] <= 23), 'time_of_day'] = 'Evening'\n",
    "\n",
    "\n",
    "# Agggregation to look at time of day\n",
    "#. Create new data frame averaged accross this times.\n",
    "   # - For distance and steps we will calculate the sum, as we want to see the total they have done\n",
    "   # - For calories we will calculate the maximum\n",
    "hourly_fitbit_sema_by_time_of_day = hourly_fitbit_sema_df[['id','date','age', 'gender', 'bmi', 'calories', 'distance', 'ALERT', 'HAPPY', 'NEUTRAL',\n",
    "                                              'RESTED/RELAXED','SAD', 'TENSE/ANXIOUS', 'TIRED',  'time_of_day' ]]\n",
    "\n",
    "# define how do we want to aggregate each column\n",
    "aggregations = {\n",
    "    'calories': 'mean',  \n",
    "    'distance': 'sum',\n",
    "    'ALERT': 'max',\n",
    "    'HAPPY': 'max',\n",
    "    'NEUTRAL': 'max',\n",
    "    'RESTED/RELAXED': 'max',\n",
    "    'TENSE/ANXIOUS': 'max',\n",
    "    'TIRED': 'max'}\n",
    "    \n",
    "hourly_fitbit_sema_df_summarized =  hourly_fitbit_sema_df2b.groupby(['id', 'date', \"time_of_day\", \"age\",\"gender\",\"bmi\"]).max().reset_index()\n",
    "\n",
    "hourly_fitbit_sema_df_summarized['median_calories']=  hourly_fitbit_sema_df2b.groupby(['id', 'date', \"time_of_day\"]).median().reset_index()['calories']\n",
    "hourly_fitbit_sema_df_summarized['total_sum_distance'] =  hourly_fitbit_sema_df2b.groupby(['id', 'date', \"time_of_day\"]).sum().reset_index()['distance']\n",
    "hourly_fitbit_sema_df_summarized.drop(['calories', 'distance'], axis=1)\n",
    " \n",
    "\n",
    "# Calculate day of the week and month\n",
    "hourly_fitbit_sema_df_summarized['date'] = pd.to_datetime(hourly_fitbit_sema_df_summarized['date'])\n",
    "hourly_fitbit_sema_df_summarized['day_of_week'] = hourly_fitbit_sema_df_summarized['date'].dt.weekday.map({0: 'Monday', 1: 'Tuesday', 2: 'Wednesday', 3: 'Thursday', 4: 'Friday', 5: 'Saturday', 6: 'Sunday'})\n",
    "hourly_fitbit_sema_df_summarized['month'] = hourly_fitbit_sema_df_summarized['date'].dt.month_name()\n",
    "\n",
    "# Calculate whether the day is a weekend or a weekday\n",
    "hourly_fitbit_sema_df_summarized['day_type'] = hourly_fitbit_sema_df_summarized['date'].dt.weekday.map({0: 'WeekDay', 1: 'WeekDay', 2: 'WeekDay', 3: 'WeekDay', 4: 'WeekDay', 5: 'Weekend', 6: 'Weekend'})\n",
    "\n",
    "\n",
    "#hourly_fitbit_sema_df_summarized.head(5)\n",
    "\n",
    "# create a dataframe that is only users and their start date, just once\n",
    "users_and_start_date = hourly_fitbit_sema_df_summarized.drop_duplicates(subset=['id'], keep='first')[[\"id\", \"Min_date\", \"Mapped_ID\"]]\n",
    "#users_and_start_date.head(40)\n",
    "\n",
    "# Drop the 'Min_Date' column if not needed\n",
    "hourly_fitbit_sema_df_summarized.drop(columns=['Min_date'], inplace=True)\n"
   ]
  },
  {
   "cell_type": "code",
   "execution_count": null,
   "id": "0e651d11-23b5-43e9-8de1-576f22f9f4c5",
   "metadata": {
    "tags": []
   },
   "outputs": [],
   "source": [
    "# Summaryse the amount of time users were enrolled in the study\n",
    "enrollment_duration = hourly_fitbit_sema_df_summarized.groupby('id')['date'].apply(lambda x: x.max() - x.min())\n",
    "\n",
    "# Calculate duration in months and days\n",
    "enrollment_duration_months = enrollment_duration.dt.days // 30\n",
    "enrollment_duration_days = enrollment_duration.dt.days \n",
    "\n",
    "description_months = enrollment_duration_months.describe().round(2)\n",
    "description_days = enrollment_duration_days.describe().round(2)\n",
    "\n",
    "print(description_months)\n",
    "print(description_days)"
   ]
  },
  {
   "cell_type": "markdown",
   "id": "27c31bd7-8bab-496d-ade6-a7dbb12c25fe",
   "metadata": {},
   "source": [
    "## 1.2 PLotting the data"
   ]
  },
  {
   "cell_type": "code",
   "execution_count": null,
   "id": "d9166e31-0fde-4494-b946-c811814bc92f",
   "metadata": {
    "tags": []
   },
   "outputs": [],
   "source": [
    "#look at the missing values by time of day and overall\n",
    "\n",
    "#missing SEMA, calories and distance values overall\n",
    "msno.bar(hourly_fitbit_sema_df_summarized)\n",
    "\n",
    "#missing SEMA, calories and distance by time of day, we can see there is quite a lot of misisng values compared to the amount of values we should have, but it is comparable accross time of day\n",
    "# we should not have SEMA values at night , but we can see we can 25 values \n",
    "hourly_fitbit_sema_df_summarized.groupby(\"time_of_day\").count()"
   ]
  },
  {
   "cell_type": "code",
   "execution_count": null,
   "id": "266f93da-2251-4339-bf9d-ed969605682e",
   "metadata": {
    "tags": []
   },
   "outputs": [],
   "source": [
    "# drop na values from the mood columns as we are just interest on those who had values\n",
    "hourly_fitbit_sema_df_summarized_no_na = hourly_fitbit_sema_df_summarized.dropna(subset=['ALERT'])[['id','date','calories', 'distance', 'ALERT', 'HAPPY', 'NEUTRAL',\n",
    "                                              'RESTED/RELAXED','SAD', 'TENSE/ANXIOUS', 'TIRED',  'time_of_day', 'day_of_week' ]]\n",
    "\n",
    "# Check which mood rows have been added incorrectly as user replied twice withn the same time frame\n",
    "# We are adding all mood columns and they always would need to add one as they replied to one mood per timeframe, so if it is more than one it means than when collapsing \n",
    "# accross timeframes we did not do it right\n",
    "column_names = [ 'ALERT', 'HAPPY', 'NEUTRAL','RESTED/RELAXED','SAD', 'TENSE/ANXIOUS', 'TIRED']\n",
    "hourly_fitbit_sema_df_summarized_no_na['MOOD ADDED'] = hourly_fitbit_sema_df_summarized_no_na[column_names].sum(axis=1)\n",
    "\n",
    "print('Number of rows removing na and before removing two mood instances in a row is: ' + str(len(hourly_fitbit_sema_df_summarized_no_na)))\n",
    "\n",
    "# delete rows where MOOD ADDED is bigger than 1\n",
    "hourly_fitbit_sema_df_summarized_no_na = hourly_fitbit_sema_df_summarized_no_na.drop(hourly_fitbit_sema_df_summarized_no_na[hourly_fitbit_sema_df_summarized_no_na['MOOD ADDED'] > 1].index)\n",
    "print('Number of rows removing na and removing two mood instances in a row is: ' + str(len(hourly_fitbit_sema_df_summarized_no_na)))\n",
    "\n",
    "#create a single variable that represents the mood that is the combination of the dummy variables\n",
    "hourly_fitbit_sema_df_summarized_no_na['MOOD'] = pd.from_dummies(hourly_fitbit_sema_df_summarized_no_na[column_names])\n",
    "\n",
    "msno.bar(hourly_fitbit_sema_df_summarized_no_na)\n",
    "\n",
    "hourly_fitbit_sema_df_summarized_no_na.head(5)\n",
    "\n",
    "\n"
   ]
  },
  {
   "cell_type": "code",
   "execution_count": null,
   "id": "a94f2c41-2ba6-49ad-9464-27b7f88abe58",
   "metadata": {
    "tags": []
   },
   "outputs": [],
   "source": [
    "hourly_fitbit_sema_df_to_plot = hourly_fitbit_sema_df_summarized_no_na[[\"day_of_week\", \"time_of_day\", \"MOOD\", \"RESTED/RELAXED\", \"TIRED\", \"TENSE/ANXIOUS\",\"HAPPY\",  \"NEUTRAL\",\"ALERT\",\"SAD\"]]\n",
    "\n",
    "hourly_fitbit_sema_df_to_plot = hourly_fitbit_sema_df_to_plot.groupby(\"time_of_day\").sum().reset_index()\n",
    "\n",
    "#order labels of day_of_week\n",
    "weekdays = [\"Monday\", \"Tuesday\", \"Wednesday\", \"Thursday\", \"Friday\", \"Saturday\", \"Sunday\"]\n",
    "hourly_fitbit_sema_df_summarized_no_na.day_of_week = pd.Categorical(hourly_fitbit_sema_df_summarized_no_na.day_of_week,categories=weekdays)\n",
    "hourly_fitbit_sema_df_summarized_no_na = hourly_fitbit_sema_df_summarized_no_na.sort_values('day_of_week')\n",
    "\n",
    "\n",
    "#remove night as we were interested during the timeframes morning, afternon and evening\n",
    "hourly_fitbit_sema_df_to_plot =  hourly_fitbit_sema_df_to_plot[hourly_fitbit_sema_df_to_plot.time_of_day != \"Night\"]\n",
    "\n",
    "#order labels of time_of_day\n",
    "timeday = [\"Morning\", \"Afternoon\", \"Evening\"]\n",
    "hourly_fitbit_sema_df_to_plot.time_of_day = pd.Categorical(hourly_fitbit_sema_df_to_plot.time_of_day,categories=timeday)\n",
    "hourly_fitbit_sema_df_to_plot = hourly_fitbit_sema_df_to_plot.sort_values('time_of_day')\n",
    "\n",
    "\n",
    "\n",
    "#plot mood based on time of the day and day of the week\n",
    "# STILL TODO as nor working properly\n",
    "fig, ax = plt.subplots(figsize=(20, 10))\n",
    "hourly_fitbit_sema_df_to_plot.plot(x=\"time_of_day\", y=['RESTED/RELAXED','TIRED', 'TENSE/ANXIOUS','NEUTRAL', 'ALERT', 'HAPPY', 'SAD' ], kind=\"bar\",ax=ax, stacked=True)\n",
    "plt.xlabel('Time of day',fontsize=20)\n",
    "plt.ylabel('Number of answers',fontsize=20)\n",
    "plt.title('Mood answers by time of day',fontsize=20)\n",
    "plt.legend(bbox_to_anchor=(1, 1), loc='upper left')\n",
    "plt.grid()\n",
    "plt.xticks(fontsize=18, rotation=0)\n",
    "plt.yticks(fontsize=18, rotation=0)\n",
    "plt.show()"
   ]
  },
  {
   "cell_type": "code",
   "execution_count": null,
   "id": "e0cc3f87-8cda-4093-922c-b8ae958fc9b2",
   "metadata": {
    "tags": []
   },
   "outputs": [],
   "source": [
    "hourly_fitbit_sema_df_to_plot = hourly_fitbit_sema_df_summarized_no_na[[\"day_of_week\", \"time_of_day\", \"MOOD\", \"RESTED/RELAXED\", \"TIRED\", \"TENSE/ANXIOUS\",\"HAPPY\",  \"NEUTRAL\",\"ALERT\",\"SAD\"]]\n",
    "hourly_fitbit_sema_df_to_plot = hourly_fitbit_sema_df_to_plot.groupby([\"day_of_week\"]).sum().reset_index()\n",
    "#remove night as we were interested during the timeframes morning, afternon and evening\n",
    "hourly_fitbit_sema_df_to_plot =  hourly_fitbit_sema_df_to_plot[hourly_fitbit_sema_df_to_plot.time_of_day != \"Night\"]\n",
    "\n",
    "\n",
    "fig, ax = plt.subplots(figsize=(20, 10))\n",
    "\n",
    "hourly_fitbit_sema_df_to_plot.plot(x=\"day_of_week\", y=['RESTED/RELAXED','TIRED', 'TENSE/ANXIOUS','NEUTRAL', 'ALERT', 'HAPPY', 'SAD' ], kind=\"bar\",ax=ax, stacked=True)\n",
    "plt.xlabel('Week day',fontsize=20)\n",
    "plt.ylabel('Number of answers',fontsize=20)\n",
    "plt.title('Mood by day',fontsize=20)\n",
    "plt.legend(bbox_to_anchor=(1, 1), loc='upper left')\n",
    "plt.grid()\n",
    "plt.xticks(fontsize=18, rotation=0)\n",
    "plt.yticks(fontsize=18, rotation=0)\n",
    "plt.show()\n",
    "\n"
   ]
  },
  {
   "cell_type": "code",
   "execution_count": null,
   "id": "44ac26c8-8446-4d96-8262-e902b1cffadd",
   "metadata": {},
   "outputs": [],
   "source": [
    "#TODO: I wanted to stack both plots together but it seems it is not possible\n",
    "#plot mood based on time of the day and day of the week\n",
    "# STILL TODO as nor working properly\n",
    "# TODO: how to normalize?\n",
    "hourly_fitbit_sema_df_normalized = hourly_fitbit_sema_df_summarized_no_na.groupby(['day_of_week', 'MOOD']).size().groupby(level=0).apply(\n",
    "    lambda x: 100 * x / x.sum()\n",
    ").unstack()\n",
    "\n",
    "# TODO: how to obtain proper x axis on this graph\n",
    "hourly_fitbit_sema_df_normalized.plot(kind='bar',stacked=True)\n",
    "plt.xlabel('Week day',fontsize=20)\n",
    "plt.ylabel('Percentage of answers',fontsize=20)\n",
    "plt.title('Normalized mood by day',fontsize=20)\n",
    "plt.grid()\n",
    "plt.legend(bbox_to_anchor=(1, 1), loc='upper left')\n",
    "plt.xticks(fontsize=18, rotation=0)\n",
    "plt.yticks(fontsize=18, rotation=0)\n",
    "plt.show()"
   ]
  }
 ],
 "metadata": {
  "kernelspec": {
   "display_name": "Python 3 (ipykernel)",
   "language": "python",
   "name": "python3"
  },
  "language_info": {
   "codemirror_mode": {
    "name": "ipython",
    "version": 3
   },
   "file_extension": ".py",
   "mimetype": "text/x-python",
   "name": "python",
   "nbconvert_exporter": "python",
   "pygments_lexer": "ipython3",
   "version": "3.11.5"
  }
 },
 "nbformat": 4,
 "nbformat_minor": 5
}
